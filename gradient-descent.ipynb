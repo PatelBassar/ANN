{
 "cells": [
  {
   "cell_type": "code",
   "execution_count": 1,
   "metadata": {},
   "outputs": [
    {
     "name": "stdout",
     "output_type": "stream",
     "text": [
      "('Iteration', 1, '\\nX value is', 1.4)\n",
      "('Iteration', 2, '\\nX value is', 0.11999999999999966)\n",
      "('Iteration', 3, '\\nX value is', -0.9040000000000001)\n",
      "('Iteration', 4, '\\nX value is', -1.7232000000000003)\n",
      "('Iteration', 5, '\\nX value is', -2.3785600000000002)\n",
      "('Iteration', 6, '\\nX value is', -2.902848)\n",
      "('Iteration', 7, '\\nX value is', -3.3222784)\n",
      "('Iteration', 8, '\\nX value is', -3.65782272)\n",
      "('Iteration', 9, '\\nX value is', -3.926258176)\n",
      "('Iteration', 10, '\\nX value is', -4.1410065408)\n",
      "('Iteration', 11, '\\nX value is', -4.312805232640001)\n",
      "('Iteration', 12, '\\nX value is', -4.450244186112)\n",
      "('Iteration', 13, '\\nX value is', -4.5601953488896)\n",
      "('Iteration', 14, '\\nX value is', -4.64815627911168)\n",
      "('Iteration', 15, '\\nX value is', -4.718525023289343)\n",
      "('Iteration', 16, '\\nX value is', -4.774820018631475)\n",
      "('Iteration', 17, '\\nX value is', -4.81985601490518)\n",
      "('Iteration', 18, '\\nX value is', -4.855884811924144)\n",
      "('Iteration', 19, '\\nX value is', -4.884707849539315)\n",
      "('Iteration', 20, '\\nX value is', -4.907766279631452)\n",
      "('Iteration', 21, '\\nX value is', -4.926213023705161)\n",
      "('Iteration', 22, '\\nX value is', -4.940970418964129)\n",
      "('Iteration', 23, '\\nX value is', -4.952776335171303)\n",
      "('Iteration', 24, '\\nX value is', -4.962221068137042)\n",
      "('The local minimum occurs at', -4.962221068137042)\n"
     ]
    }
   ],
   "source": [
    "cur_x = 3 # The algorithm starts at x=3\n",
    "rate = 0.1 # Learning rate\n",
    "precision = 0.01 #This tells us when to stop the algorithm\n",
    "previous_step_size = 2 #\n",
    "max_iters = 100 # maximum number of iterations\n",
    "iters = 0 #iteration counter\n",
    "df = lambda x: 2*(x+5) #Gradient of our function\n",
    "while previous_step_size > precision and iters < max_iters:\n",
    "    prev_x = cur_x #Store current x value in prev_x\n",
    "    cur_x = cur_x - rate * df(prev_x) #Grad descent\n",
    "    previous_step_size = abs(cur_x - prev_x) #Change in x\n",
    "    iters = iters+1 #iteration count\n",
    "    print(\"Iteration\",iters,\"\\nX value is\",cur_x) #Print iterations\n",
    "    \n",
    "print(\"The local minimum occurs at\", cur_x)"
   ]
  },
  {
   "cell_type": "code",
   "execution_count": null,
   "metadata": {},
   "outputs": [],
   "source": []
  },
  {
   "cell_type": "code",
   "execution_count": null,
   "metadata": {},
   "outputs": [],
   "source": []
  }
 ],
 "metadata": {
  "kernelspec": {
   "display_name": "Python 2",
   "language": "python",
   "name": "python2"
  },
  "language_info": {
   "codemirror_mode": {
    "name": "ipython",
    "version": 2
   },
   "file_extension": ".py",
   "mimetype": "text/x-python",
   "name": "python",
   "nbconvert_exporter": "python",
   "pygments_lexer": "ipython2",
   "version": "2.7.13"
  }
 },
 "nbformat": 4,
 "nbformat_minor": 2
}
